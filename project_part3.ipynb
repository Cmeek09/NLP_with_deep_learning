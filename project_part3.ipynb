{
 "cells": [
  {
   "cell_type": "markdown",
   "metadata": {},
   "source": [
    "# Demo of transformer"
   ]
  },
  {
   "cell_type": "code",
   "execution_count": 1,
   "metadata": {},
   "outputs": [
    {
     "name": "stderr",
     "output_type": "stream",
     "text": [
      "c:\\Users\\User\\AppData\\Local\\Programs\\Python\\Python39\\lib\\site-packages\\numpy\\_distributor_init.py:30: UserWarning: loaded more than 1 DLL from .libs:\n",
      "c:\\Users\\User\\AppData\\Local\\Programs\\Python\\Python39\\lib\\site-packages\\numpy\\.libs\\libopenblas.FB5AE2TYXYH2IJRDKGDGQ3XBKLKTF43H.gfortran-win_amd64.dll\n",
      "c:\\Users\\User\\AppData\\Local\\Programs\\Python\\Python39\\lib\\site-packages\\numpy\\.libs\\libopenblas.WCDJNK7YVMPZQ2ME2ZZHJJRJ3JIKNDB7.gfortran-win_amd64.dll\n",
      "  warnings.warn(\"loaded more than 1 DLL from .libs:\"\n",
      "c:\\Users\\User\\AppData\\Local\\Programs\\Python\\Python39\\lib\\site-packages\\tqdm\\auto.py:22: TqdmWarning: IProgress not found. Please update jupyter and ipywidgets. See https://ipywidgets.readthedocs.io/en/stable/user_install.html\n",
      "  from .autonotebook import tqdm as notebook_tqdm\n",
      "No model was supplied, defaulted to sshleifer/distilbart-cnn-12-6 and revision a4f8f3e (https://huggingface.co/sshleifer/distilbart-cnn-12-6).\n",
      "Using a pipeline without specifying a model name and revision in production is not recommended.\n"
     ]
    }
   ],
   "source": [
    "from transformers import pipeline\n",
    "import os\n",
    "\n",
    "os.environ[\"CUDA_VISIBLE_DEVICES\"] = \"0\"\n",
    "\n",
    "summarizer = pipeline(\"summarization\")\n"
   ]
  },
  {
   "cell_type": "code",
   "execution_count": 2,
   "metadata": {},
   "outputs": [],
   "source": [
    "text = \"\"\"A dish of living brain cells has learned to play the 1970s arcade game Pong.\n",
    "About 800,000 cells linked to a computer gradually learned to sense the position of the game's electronic ball and control a virtual paddle, a team reports in the journal Neuron.\n",
    "The novel achievement is part of an effort to understand how the brain learns, and how to make computers more intelligent.\n",
    "\"We've made huge strides with silicon computing, but they're still rigid and inflexible,\" says Brett Kagan, an author of the study and chief scientific officer at Cortical Labs in Melbourne, Australia. \"That's something we don't see with biology.\"\n",
    "For example, both computers and people can learn to make a cup of tea, Kagan says. But people are able to generalize what they've learned in a way a computer can't.\n",
    "\"You might have never been to someone else's house, but with a bit of rummaging and searching you can probably make a decent cup of tea as long as I've got the ingredients,\" he says. But even a very powerful computer would struggle to carry out that task in an unfamiliar environment.\n",
    "So Cortical Labs has been trying to understand how living brain cells acquire this sort of intelligence. And Kagan says the Pong experiment was a way for the company to answer a key question about how a network of brain cells learns to change its behavior:\n",
    "\"If we allow these cells to know the outcome of their actions, will they actually be able to change in some sort of goal-directed way,\" Kagan says.\n",
    "To find out, the scientists used a system they've developed called DishBrain.A layer of living neurons is grown on a special silicon chip at the bottom of a thumb-size dish filled with nutrients. The chip, which is linked to a computer, can both detect electrical signals produced by the neurons, and deliver electrical signals to them.\n",
    "\n",
    "To test the learning ability of the cells, the computer generated a game of Pong, a two-dimensional version of table tennis that gained a cult following as one of the first and most basic video games.\n",
    "\n",
    "Pong is played on a video screen. A black rectangle defines the table, and a white cursor represents each player's paddle, which can be moved up or down to intercept a white ball.\n",
    "\n",
    "In the simplified version used in the experiment, there was a single paddle on the left side of the virtual table, and the ball would carom off the other sides until it evaded the paddle.\n",
    "\n",
    "To allow the brain cells to play the game, the computer sent signals to them indicating where the bouncing ball was. At the same time, it began monitoring information coming from the cells in the form of electrical pulses.\n",
    "\n",
    "\"We took that information and we allowed it to influence this Pong game that they were playing,\" Kagan says. \"So they could move the paddle around.\"\n",
    "\n",
    "At first, the cells didn't understand the signals coming from the computer, or know what signals to send the other direction. They also had no reason to play the game.\n",
    "\n",
    "So the scientists tried to motivate the cells using electrical stimulation: a nicely organized burst of electrical activity if they got it right. When they got it wrong, the result was a chaotic stream of white noise.\n",
    "\n",
    "\"If they hit the ball, we gave them something predictable,\" Kagan says. \"When they missed it, they got something that was totally unpredictable.\"\n",
    "\n",
    "The strategy was based on the Free Energy Principle, which states that brain cells want to be able to predict what's going on in their environment. So they would choose predictable stimulation over unpredictable stimulation.\n",
    "\n",
    "The approach worked. Cells began to learn to generate patterns of electrical activity that would move the paddle in front of the ball, and gradually rallies got longer.\n",
    "\n",
    "The brain cells never got that good at Pong. But interestingly, human brain cells seemed to achieve a slightly higher level of play than mouse brain cells, Kagan says.\n",
    "\n",
    "And the level of play was remarkable, considering that each network contained fewer cells than the brain of a cockroach, Kagan says.\n",
    "\n",
    "\"If you could see a cockroach playing a game of Pong and it was able to hit the ball twice as often as it was missing it, you would be pretty impressed with that cockroach,\" he says.\n",
    "\n",
    "The results hint at a future in which biology helps computers become more intelligent by changing the way that they learn, Kagan says.\n",
    "\n",
    "But that future is probably still a long way off, says Steve M. Potter, an adjunct associate professor at Georgia Tech.\n",
    "\n",
    "\"The idea of a computer that has some living components is exciting and it's starting to become a reality,\" he says. \"However, the kinds of learning that these things can accomplish is quite rudimentary right now.\"\n",
    "\"\"\""
   ]
  },
  {
   "cell_type": "code",
   "execution_count": 3,
   "metadata": {},
   "outputs": [
    {
     "name": "stdout",
     "output_type": "stream",
     "text": [
      " Australian scientists develop a dish of living brain cells that learns to play Pong . The experiment is part of an effort to understand how the brain learns, and how to make computers more intelligent . A computer generated a game of Pong, a two-dimensional version of table tennis that gained a cult following in the 1970s .\n"
     ]
    }
   ],
   "source": [
    "summary_text = summarizer(text, max_length=130, min_length=30, do_sample=False)[0]['summary_text']\n",
    "print(summary_text)"
   ]
  }
 ],
 "metadata": {
  "kernelspec": {
   "display_name": "Python 3.9.1 64-bit",
   "language": "python",
   "name": "python3"
  },
  "language_info": {
   "codemirror_mode": {
    "name": "ipython",
    "version": 3
   },
   "file_extension": ".py",
   "mimetype": "text/x-python",
   "name": "python",
   "nbconvert_exporter": "python",
   "pygments_lexer": "ipython3",
   "version": "3.9.1"
  },
  "orig_nbformat": 4,
  "vscode": {
   "interpreter": {
    "hash": "cf92aa13fedf815d5c8dd192b8d835913fde3e8bc926b2a0ad6cc74ef2ba3ca2"
   }
  }
 },
 "nbformat": 4,
 "nbformat_minor": 2
}
