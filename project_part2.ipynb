{
 "cells": [
  {
   "cell_type": "markdown",
   "metadata": {},
   "source": [
    "### Text Classification\n",
    "\n",
    "For the baseline model(s) on text classification, the data is cleaned, seperated, and vectorized.  Given that the labels are known and theres only 2 options (real or fake), this could be implemented with several models.  I'll use randomforest and HistGradientBoostingClassifier, just to compare the difference and see how they perform.  The models will only be looking at the titles to train on, ideally, I'd like to train the models on text data as well, but it's too computationally expensive to try, as the text in the stories is a lot more data to process. "
   ]
  },
  {
   "cell_type": "code",
   "execution_count": 1,
   "metadata": {},
   "outputs": [
    {
     "name": "stderr",
     "output_type": "stream",
     "text": [
      "c:\\Users\\User\\AppData\\Local\\Programs\\Python\\Python39\\lib\\site-packages\\numpy\\_distributor_init.py:30: UserWarning: loaded more than 1 DLL from .libs:\n",
      "c:\\Users\\User\\AppData\\Local\\Programs\\Python\\Python39\\lib\\site-packages\\numpy\\.libs\\libopenblas.FB5AE2TYXYH2IJRDKGDGQ3XBKLKTF43H.gfortran-win_amd64.dll\n",
      "c:\\Users\\User\\AppData\\Local\\Programs\\Python\\Python39\\lib\\site-packages\\numpy\\.libs\\libopenblas.WCDJNK7YVMPZQ2ME2ZZHJJRJ3JIKNDB7.gfortran-win_amd64.dll\n",
      "  warnings.warn(\"loaded more than 1 DLL from .libs:\"\n"
     ]
    },
    {
     "name": "stdout",
     "output_type": "stream",
     "text": [
      "data\\back_up_code.ipynb\n",
      "data\\evaluation.csv\n",
      "data\\Maize Seedling.jpeg\n",
      "data\\pic2textJPG.JPG\n",
      "data\\test.csv\n",
      "data\\train.csv\n"
     ]
    }
   ],
   "source": [
    "import numpy as np\n",
    "import pandas as pd \n",
    "\n",
    "import os\n",
    "for dirname, _, filenames in os.walk('data'):\n",
    "    for filename in filenames:\n",
    "        print(os.path.join(dirname, filename))"
   ]
  },
  {
   "cell_type": "code",
   "execution_count": 2,
   "metadata": {},
   "outputs": [
    {
     "data": {
      "text/html": [
       "<div>\n",
       "<style scoped>\n",
       "    .dataframe tbody tr th:only-of-type {\n",
       "        vertical-align: middle;\n",
       "    }\n",
       "\n",
       "    .dataframe tbody tr th {\n",
       "        vertical-align: top;\n",
       "    }\n",
       "\n",
       "    .dataframe thead th {\n",
       "        text-align: right;\n",
       "    }\n",
       "</style>\n",
       "<table border=\"1\" class=\"dataframe\">\n",
       "  <thead>\n",
       "    <tr style=\"text-align: right;\">\n",
       "      <th></th>\n",
       "      <th>id</th>\n",
       "      <th>title</th>\n",
       "      <th>text</th>\n",
       "      <th>label</th>\n",
       "    </tr>\n",
       "  </thead>\n",
       "  <tbody>\n",
       "    <tr>\n",
       "      <th>0</th>\n",
       "      <td>0</td>\n",
       "      <td>Palestinians switch off Christmas lights in Be...</td>\n",
       "      <td>RAMALLAH, West Bank (Reuters) - Palestinians s...</td>\n",
       "      <td>1</td>\n",
       "    </tr>\n",
       "    <tr>\n",
       "      <th>1</th>\n",
       "      <td>1</td>\n",
       "      <td>China says Trump call with Taiwan president wo...</td>\n",
       "      <td>BEIJING (Reuters) - U.S. President-elect Donal...</td>\n",
       "      <td>1</td>\n",
       "    </tr>\n",
       "    <tr>\n",
       "      <th>2</th>\n",
       "      <td>2</td>\n",
       "      <td>FAIL! The Trump Organization�s Credit Score W...</td>\n",
       "      <td>While the controversy over Trump s personal ta...</td>\n",
       "      <td>0</td>\n",
       "    </tr>\n",
       "    <tr>\n",
       "      <th>3</th>\n",
       "      <td>3</td>\n",
       "      <td>Zimbabwe military chief's China trip was norma...</td>\n",
       "      <td>BEIJING (Reuters) - A trip to Beijing last wee...</td>\n",
       "      <td>1</td>\n",
       "    </tr>\n",
       "    <tr>\n",
       "      <th>4</th>\n",
       "      <td>4</td>\n",
       "      <td>THE MOST UNCOURAGEOUS PRESIDENT EVER Receives ...</td>\n",
       "      <td>There has never been a more UNCOURAGEOUS perso...</td>\n",
       "      <td>0</td>\n",
       "    </tr>\n",
       "  </tbody>\n",
       "</table>\n",
       "</div>"
      ],
      "text/plain": [
       "   id                                              title  \\\n",
       "0   0  Palestinians switch off Christmas lights in Be...   \n",
       "1   1  China says Trump call with Taiwan president wo...   \n",
       "2   2   FAIL! The Trump Organization�s Credit Score W...   \n",
       "3   3  Zimbabwe military chief's China trip was norma...   \n",
       "4   4  THE MOST UNCOURAGEOUS PRESIDENT EVER Receives ...   \n",
       "\n",
       "                                                text  label  \n",
       "0  RAMALLAH, West Bank (Reuters) - Palestinians s...      1  \n",
       "1  BEIJING (Reuters) - U.S. President-elect Donal...      1  \n",
       "2  While the controversy over Trump s personal ta...      0  \n",
       "3  BEIJING (Reuters) - A trip to Beijing last wee...      1  \n",
       "4  There has never been a more UNCOURAGEOUS perso...      0  "
      ]
     },
     "execution_count": 2,
     "metadata": {},
     "output_type": "execute_result"
    }
   ],
   "source": [
    "input_data_path = 'data/'\n",
    "training_data_file = 'train.csv'\n",
    "df = pd.read_csv(input_data_path + training_data_file)\n",
    "df.head()"
   ]
  },
  {
   "cell_type": "code",
   "execution_count": 3,
   "metadata": {},
   "outputs": [],
   "source": [
    "real=df[df['label']==1]\n",
    "fake=df[df['label']==0]"
   ]
  },
  {
   "cell_type": "code",
   "execution_count": 4,
   "metadata": {},
   "outputs": [
    {
     "name": "stderr",
     "output_type": "stream",
     "text": [
      "[nltk_data] Downloading package stopwords to\n",
      "[nltk_data]     C:\\Users\\User\\AppData\\Roaming\\nltk_data...\n",
      "[nltk_data]   Package stopwords is already up-to-date!\n"
     ]
    }
   ],
   "source": [
    "import nltk\n",
    "from collections import Counter\n",
    "nltk.download('stopwords')\n",
    "from nltk.corpus import stopwords\n",
    "stop = stopwords.words('english')\n",
    "import re\n",
    "\n",
    "#---------------------------------------------------------------------------------------------#\n",
    "## title cleansing\n",
    "#---------------------------------------------------------------------------------------------#\n",
    "\n",
    "ttl = \" \".join(title for title in df.title)\n",
    "\n",
    "#get rid of special characters\n",
    "\n",
    "def cleanTitle(ttl):\n",
    "    ttl = ttl.str.replace(\"()\", \"\")\n",
    "    ttl = ttl.str.replace('(<a).*(>).*()', '')\n",
    "    ttl = ttl.str.replace('(&amp)', '')\n",
    "    ttl = ttl.str.replace('(&gt)', '')\n",
    "    ttl = ttl.str.replace('(&lt)', '')\n",
    "    ttl = ttl.str.replace('(\\xa0)', ' ')\n",
    "    ttl = ttl.str.replace(\"~\", \"\")\n",
    "    ttl = ttl.str.replace(\"`\", \"\")\n",
    "    ttl = ttl.str.replace(\"�\", \"\")    \n",
    "    ttl = ttl.str.replace(\"-\", \"\")\n",
    "    ttl = ttl.str.replace(\"_\", \"\")  \n",
    "    return ttldf['title'] == cleanTitle(df['title'])\n",
    "\n",
    "\n",
    "\n",
    "# convert to lowercase\n",
    "df['title'] = df['title'].apply(lambda x: \" \".join(x.lower() for x in x.split()))\n",
    "\n",
    "# # remove punctuations\n",
    "df['title'] = df['title'].apply(lambda x: \" \".join(x.lower() for x in x.split()))\n",
    "\n",
    "\n",
    "# df['title'].head()"
   ]
  },
  {
   "cell_type": "code",
   "execution_count": 5,
   "metadata": {},
   "outputs": [
    {
     "name": "stdout",
     "output_type": "stream",
     "text": [
      "6538     former trump adviser flynn's son being probed ...\n",
      "11573    fbi director comey�s decision on hillary clint...\n",
      "4058     trump to give major north korea speech, then p...\n",
      "9159     re we are being set up for higher interest rat...\n",
      "22242    draft senate healthcare bill would link subsid...\n",
      "                               ...                        \n",
      "21575    hillary�s state department destroyed 13 of her...\n",
      "5390     second house panel approves obamacare replacem...\n",
      "860      six civilians killed by roadside bomb in afgha...\n",
      "15795    congress moves closer to final tax bill with h...\n",
      "23654    (video) hilarious! donald trump on jimmy fallo...\n",
      "Name: title, Length: 19470, dtype: object\n"
     ]
    }
   ],
   "source": [
    "# split data into train and validation sets: df_train and df_val\n",
    "from sklearn.model_selection import train_test_split\n",
    "\n",
    "\n",
    "X = df['title'].copy()\n",
    "\n",
    "\n",
    "y = df['label'].copy()\n",
    "\n",
    "\n",
    "X_train_raw, X_val_raw, y_train, y_val = train_test_split(X, y, test_size=0.20, random_state=42)\n",
    "\n",
    "print(X_train_raw)"
   ]
  },
  {
   "cell_type": "code",
   "execution_count": 6,
   "metadata": {},
   "outputs": [
    {
     "name": "stdout",
     "output_type": "stream",
     "text": [
      "X_train.shape = (19470, 16807)\n",
      "[[0. 0. 0. ... 0. 0. 0.]\n",
      " [0. 0. 0. ... 0. 0. 0.]\n",
      " [0. 0. 0. ... 0. 0. 0.]\n",
      " ...\n",
      " [0. 0. 0. ... 0. 0. 0.]\n",
      " [0. 0. 0. ... 0. 0. 0.]\n",
      " [0. 0. 0. ... 0. 0. 0.]]\n",
      "Number of samples: 19470\n",
      "Number of features: 16807\n"
     ]
    }
   ],
   "source": [
    "from sklearn.feature_extraction.text import TfidfVectorizer\n",
    "#import seaborn as sns\n",
    "tfidf_vectorizer = TfidfVectorizer()\n",
    "X_train = tfidf_vectorizer.fit_transform(X_train_raw).toarray()\n",
    "# an alternative is to use term frequency:\n",
    "#from sklearn.feature_extraction.text import CountVectorizer\n",
    "#one_hot_vectorizer = CountVectorizer(binary=True)\n",
    "#X_train = one_hot_vectorizer.fit_transform(X_train_raw))\n",
    "\n",
    "print(f\"X_train.shape = {X_train.shape}\")\n",
    "print(X_train)\n",
    "\n",
    "print(f\"Number of samples: {X_train.shape[0]}\")\n",
    "print(f\"Number of features: {X_train.shape[1]}\")\n",
    "#print(f\"Number of catagories: {X_train.shape[2]}\")"
   ]
  },
  {
   "cell_type": "markdown",
   "metadata": {},
   "source": [
    "### testing and validating RandomForestClassifier\n"
   ]
  },
  {
   "cell_type": "code",
   "execution_count": 7,
   "metadata": {},
   "outputs": [
    {
     "name": "stdout",
     "output_type": "stream",
     "text": [
      "accuracy (on X_train): 0.9976\n"
     ]
    },
    {
     "data": {
      "image/png": "[encoded data removed]",
      "text/plain": [
       "<Figure size 432x288 with 2 Axes>"
      ]
     },
     "metadata": {
      "needs_background": "light"
     },
     "output_type": "display_data"
    }
   ],
   "source": [
    "from sklearn.metrics import confusion_matrix, ConfusionMatrixDisplay, accuracy_score\n",
    "from sklearn import metrics\n",
    "from sklearn.ensemble import RandomForestClassifier\n",
    "from sklearn import metrics\n",
    "\n",
    "model = RandomForestClassifier().fit(X_train, y_train)\n",
    "\n",
    "predictions_train = model.predict(X_train)\n",
    "\n",
    "disp = ConfusionMatrixDisplay(confusion_matrix(y_train, predictions_train), display_labels=['True', 'Fake'])\n",
    "disp.plot()\n",
    "print(f\"accuracy (on X_train): {accuracy_score(y_train, predictions_train):.4f}\")"
   ]
  },
  {
   "cell_type": "code",
   "execution_count": 8,
   "metadata": {},
   "outputs": [
    {
     "name": "stdout",
     "output_type": "stream",
     "text": [
      "X_val.shape = (4868, 16807)\n"
     ]
    },
    {
     "data": {
      "text/plain": [
       "numpy.ndarray"
      ]
     },
     "execution_count": 8,
     "metadata": {},
     "output_type": "execute_result"
    }
   ],
   "source": [
    "X_val = tfidf_vectorizer.transform(X_val_raw).toarray()\n",
    "print(f\"X_val.shape = {X_val.shape}\")\n",
    "type(X_val)"
   ]
  },
  {
   "cell_type": "code",
   "execution_count": 9,
   "metadata": {},
   "outputs": [
    {
     "name": "stdout",
     "output_type": "stream",
     "text": [
      "              precision    recall  f1-score   support\n",
      "\n",
      "           0       0.93      0.89      0.91      2228\n",
      "           1       0.91      0.95      0.93      2640\n",
      "\n",
      "    accuracy                           0.92      4868\n",
      "   macro avg       0.92      0.92      0.92      4868\n",
      "weighted avg       0.92      0.92      0.92      4868\n",
      "\n",
      "accuracy (on X_train): 0.9197\n"
     ]
    },
    {
     "data": {
      "image/png": "[encoded data removed]",
      "text/plain": [
       "<Figure size 432x288 with 2 Axes>"
      ]
     },
     "metadata": {
      "needs_background": "light"
     },
     "output_type": "display_data"
    }
   ],
   "source": [
    "from sklearn.metrics import classification_report\n",
    "\n",
    "predictions_val = model.predict(X_val)\n",
    "\n",
    "print(classification_report(y_val, predictions_val))\n",
    "disp = ConfusionMatrixDisplay(confusion_matrix(y_val, predictions_val), display_labels=['True', 'Fake'])\n",
    "disp.plot()\n",
    "print(f\"accuracy (on X_train): {accuracy_score(y_val, predictions_val):.4f}\")"
   ]
  },
  {
   "cell_type": "markdown",
   "metadata": {},
   "source": [
    "### Adding hyperparamters within the classifier"
   ]
  },
  {
   "cell_type": "code",
   "execution_count": 10,
   "metadata": {},
   "outputs": [
    {
     "name": "stdout",
     "output_type": "stream",
     "text": [
      "accuracy (on X_train): 0.9976\n"
     ]
    },
    {
     "data": {
      "image/png": "[encoded data removed]",
      "text/plain": [
       "<Figure size 432x288 with 2 Axes>"
      ]
     },
     "metadata": {
      "needs_background": "light"
     },
     "output_type": "display_data"
    }
   ],
   "source": [
    "from sklearn.metrics import confusion_matrix, ConfusionMatrixDisplay, accuracy_score\n",
    "from sklearn import metrics\n",
    "from sklearn.ensemble import RandomForestClassifier\n",
    "from sklearn import metrics\n",
    "\n",
    "model = RandomForestClassifier(n_estimators=100,criterion='log_loss')\n",
    "model.fit(X_train, y_train)\n",
    "\n",
    "predictions_train = model.predict(X_train)\n",
    "\n",
    "disp = ConfusionMatrixDisplay(confusion_matrix(y_train, predictions_train), display_labels=['True', 'Fake'])\n",
    "disp.plot()\n",
    "print(f\"accuracy (on X_train): {accuracy_score(y_train, predictions_train):.4f}\")"
   ]
  },
  {
   "cell_type": "code",
   "execution_count": 11,
   "metadata": {},
   "outputs": [
    {
     "name": "stdout",
     "output_type": "stream",
     "text": [
      "X_val.shape = (4868, 16807)\n"
     ]
    },
    {
     "data": {
      "text/plain": [
       "numpy.ndarray"
      ]
     },
     "execution_count": 11,
     "metadata": {},
     "output_type": "execute_result"
    }
   ],
   "source": [
    "X_val = tfidf_vectorizer.transform(X_val_raw).toarray()\n",
    "print(f\"X_val.shape = {X_val.shape}\")\n",
    "type(X_val)"
   ]
  },
  {
   "cell_type": "code",
   "execution_count": 12,
   "metadata": {},
   "outputs": [
    {
     "name": "stdout",
     "output_type": "stream",
     "text": [
      "              precision    recall  f1-score   support\n",
      "\n",
      "           0       0.94      0.89      0.91      2228\n",
      "           1       0.91      0.95      0.93      2640\n",
      "\n",
      "    accuracy                           0.92      4868\n",
      "   macro avg       0.92      0.92      0.92      4868\n",
      "weighted avg       0.92      0.92      0.92      4868\n",
      "\n",
      "accuracy (on X_train): 0.9217\n"
     ]
    },
    {
     "data": {
      "image/png": "[encoded data removed]",
      "text/plain": [
       "<Figure size 432x288 with 2 Axes>"
      ]
     },
     "metadata": {
      "needs_background": "light"
     },
     "output_type": "display_data"
    }
   ],
   "source": [
    "from sklearn.metrics import classification_report\n",
    "\n",
    "predictions_val = model.predict(X_val)\n",
    "\n",
    "print(classification_report(y_val, predictions_val))\n",
    "\n",
    "disp = ConfusionMatrixDisplay(confusion_matrix(y_val, predictions_val), display_labels=['True', 'Fake'])\n",
    "disp.plot()\n",
    "print(f\"accuracy (on X_train): {accuracy_score(y_val, predictions_val):.4f}\")"
   ]
  },
  {
   "cell_type": "markdown",
   "metadata": {},
   "source": [
    "### testing and validating HistGradientBoostingClassifier\n",
    "\n",
    "Seeing as the model I used prior performed really well in the assignment, I'll be using it here as one more example, I suspect it will be the best in terms of performance.\n"
   ]
  },
  {
   "cell_type": "code",
   "execution_count": 13,
   "metadata": {},
   "outputs": [
    {
     "name": "stdout",
     "output_type": "stream",
     "text": [
      "accuracy (on X_train): 0.9389\n"
     ]
    },
    {
     "data": {
      "image/png": "[encoded data removed]",
      "text/plain": [
       "<Figure size 432x288 with 2 Axes>"
      ]
     },
     "metadata": {
      "needs_background": "light"
     },
     "output_type": "display_data"
    }
   ],
   "source": [
    "from sklearn.ensemble import HistGradientBoostingClassifier\n",
    "from sklearn.metrics import confusion_matrix, ConfusionMatrixDisplay, accuracy_score\n",
    "from sklearn.model_selection import GridSearchCV\n",
    "from sklearn import svm, datasets\n",
    "\n",
    "model = HistGradientBoostingClassifier()\n",
    "model = model.fit(X_train, y_train)\n",
    "# model = model.fit()\n",
    "\n",
    "predictions_train = model.predict(X_train)\n",
    "\n",
    "disp = ConfusionMatrixDisplay(confusion_matrix(y_train, predictions_train), display_labels=['True', 'Fake'])\n",
    "disp.plot()\n",
    "print(f\"accuracy (on X_train): {accuracy_score(y_train, predictions_train):.4f}\")"
   ]
  },
  {
   "cell_type": "code",
   "execution_count": 14,
   "metadata": {},
   "outputs": [
    {
     "name": "stdout",
     "output_type": "stream",
     "text": [
      "X_val.shape = (4868, 16807)\n"
     ]
    },
    {
     "data": {
      "text/plain": [
       "numpy.ndarray"
      ]
     },
     "execution_count": 14,
     "metadata": {},
     "output_type": "execute_result"
    }
   ],
   "source": [
    "X_val = tfidf_vectorizer.transform(X_val_raw).toarray()\n",
    "print(f\"X_val.shape = {X_val.shape}\")\n",
    "type(X_val)"
   ]
  },
  {
   "cell_type": "code",
   "execution_count": 15,
   "metadata": {},
   "outputs": [
    {
     "name": "stdout",
     "output_type": "stream",
     "text": [
      "              precision    recall  f1-score   support\n",
      "\n",
      "           0       0.93      0.88      0.91      2228\n",
      "           1       0.90      0.95      0.92      2640\n",
      "\n",
      "    accuracy                           0.92      4868\n",
      "   macro avg       0.92      0.91      0.91      4868\n",
      "weighted avg       0.92      0.92      0.92      4868\n",
      "\n",
      "accuracy (on X_train): 0.9160\n"
     ]
    },
    {
     "data": {
      "image/png": "[encoded data removed]",
      "text/plain": [
       "<Figure size 432x288 with 2 Axes>"
      ]
     },
     "metadata": {
      "needs_background": "light"
     },
     "output_type": "display_data"
    }
   ],
   "source": [
    "from sklearn.metrics import classification_report\n",
    "\n",
    "predictions_val = model.predict(X_val)\n",
    "\n",
    "print(classification_report(y_val, predictions_val))\n",
    "\n",
    "\n",
    "disp = ConfusionMatrixDisplay(confusion_matrix(y_val, predictions_val), display_labels=['True', 'Fake'])\n",
    "disp.plot()\n",
    "print(f\"accuracy (on X_train): {accuracy_score(y_val, predictions_val):.4f}\")"
   ]
  },
  {
   "cell_type": "markdown",
   "metadata": {},
   "source": [
    "### tuning hyperparameters for HistGradientBoostingClassifier"
   ]
  },
  {
   "cell_type": "code",
   "execution_count": 16,
   "metadata": {},
   "outputs": [
    {
     "name": "stdout",
     "output_type": "stream",
     "text": [
      "accuracy (on X_train): 0.9427\n"
     ]
    },
    {
     "data": {
      "image/png": "[encoded data removed]",
      "text/plain": [
       "<Figure size 432x288 with 2 Axes>"
      ]
     },
     "metadata": {
      "needs_background": "light"
     },
     "output_type": "display_data"
    }
   ],
   "source": [
    "from sklearn.ensemble import HistGradientBoostingClassifier\n",
    "from sklearn.metrics import confusion_matrix, ConfusionMatrixDisplay, accuracy_score\n",
    "from sklearn.model_selection import GridSearchCV\n",
    "from sklearn import svm, datasets\n",
    "\n",
    "model = HistGradientBoostingClassifier(loss='log_loss', learning_rate=.2,max_iter=42, max_bins=5,max_leaf_nodes=64,max_depth=48,min_samples_leaf=16)\n",
    "model = model.fit(X_train, y_train)\n",
    "# model = model.fit()\n",
    "\n",
    "predictions_train = model.predict(X_train)\n",
    "\n",
    "disp = ConfusionMatrixDisplay(confusion_matrix(y_train, predictions_train), display_labels=['True', 'Fake'])\n",
    "disp.plot()\n",
    "print(f\"accuracy (on X_train): {accuracy_score(y_train, predictions_train):.4f}\")"
   ]
  },
  {
   "cell_type": "code",
   "execution_count": 17,
   "metadata": {},
   "outputs": [
    {
     "name": "stdout",
     "output_type": "stream",
     "text": [
      "X_val.shape = (4868, 16807)\n"
     ]
    },
    {
     "data": {
      "text/plain": [
       "numpy.ndarray"
      ]
     },
     "execution_count": 17,
     "metadata": {},
     "output_type": "execute_result"
    }
   ],
   "source": [
    "X_val = tfidf_vectorizer.transform(X_val_raw).toarray()\n",
    "print(f\"X_val.shape = {X_val.shape}\")\n",
    "type(X_val)"
   ]
  },
  {
   "cell_type": "code",
   "execution_count": 18,
   "metadata": {},
   "outputs": [
    {
     "name": "stdout",
     "output_type": "stream",
     "text": [
      "              precision    recall  f1-score   support\n",
      "\n",
      "           0       0.92      0.88      0.90      2228\n",
      "           1       0.90      0.94      0.92      2640\n",
      "\n",
      "    accuracy                           0.91      4868\n",
      "   macro avg       0.91      0.91      0.91      4868\n",
      "weighted avg       0.91      0.91      0.91      4868\n",
      "\n",
      "accuracy (on X_train): 0.9111\n"
     ]
    },
    {
     "data": {
      "image/png": "[encoded data removed]",
      "text/plain": [
       "<Figure size 432x288 with 2 Axes>"
      ]
     },
     "metadata": {
      "needs_background": "light"
     },
     "output_type": "display_data"
    }
   ],
   "source": [
    "from sklearn.metrics import classification_report\n",
    "\n",
    "predictions_val = model.predict(X_val)\n",
    "\n",
    "print(classification_report(y_val, predictions_val))\n",
    "\n",
    "\n",
    "disp = ConfusionMatrixDisplay(confusion_matrix(y_val, predictions_val), display_labels=['True', 'Fake'])\n",
    "disp.plot()\n",
    "print(f\"accuracy (on X_train): {accuracy_score(y_val, predictions_val):.4f}\")"
   ]
  },
  {
   "cell_type": "markdown",
   "metadata": {},
   "source": [
    "## Summary\n",
    "\n",
    "Great, realistically all models are really good from a performance standpoint randomforest classifier had good results, even without fine tuning the model, and even adding some hyperparameters only changes the result ever so slightly.  Using the \"HistGradientBoostingClassifier\", the results weren't as expected, I'd thought it perform much better than the randomforest.  Perhaps only having data to train on 2 labels doesn't make this the bast case senario to implement it in.  \n",
    "______________________________________________________________________________________________________________________"
   ]
  },
  {
   "cell_type": "markdown",
   "metadata": {},
   "source": [
    "# Text Summarization\n",
    "\n",
    "For the text summarization, I'll start by exploring topic modeling, a concept I think is interesting to look at. This is also useful as when you summarize a text, understanding what is seen as a topic may also be important in a summary of a story.  For the text summarization baseline model to evaluate them becomes more subjective.  The goal here to tell if the summary is getting the more important aspects of the story, in the summary.  If it isn't then there are metrics to determine how much it missed those weighted aspects.  Likewise, the summary should read coherently and actually reflect the whole text it summizes.\n",
    "\n",
    "The article I wanted to summarize, is a research paper from Austrailia, where scientist successfully planted human neurons into a dish and taught it too play pong with some meangingful results.  That is my version of the summary for this story.  I'm hoping that there is enough text here to work with, that both the original text and the summary results can be compared and discuss the metrics on how to evaluate this.\n",
    "\n",
    "article link: https://www.npr.org/sections/health-shots/2022/10/14/1128875298/brain-cells-neurons-learn-video-game-pong"
   ]
  },
  {
   "cell_type": "markdown",
   "metadata": {},
   "source": [
    "## Topic Modeling\n",
    "\n",
    "Topic modeling involves counting words and grouping similar word patterns to infer topics within unstructured data.  Given a article to analyze, it may be useful to see what words are grouped together and see if then we can make an inference as to what that topic would be.  The topic modeling should be confirming what I have as a summary from the article.  \n"
   ]
  },
  {
   "cell_type": "code",
   "execution_count": 1,
   "metadata": {},
   "outputs": [],
   "source": [
    "text = \"\"\"A dish of living brain cells has learned to play the 1970s arcade game Pong.\n",
    "About 800,000 cells linked to a computer gradually learned to sense the position of the game's electronic ball and control a virtual paddle, a team reports in the journal Neuron.\n",
    "The novel achievement is part of an effort to understand how the brain learns, and how to make computers more intelligent.\n",
    "\"We've made huge strides with silicon computing, but they're still rigid and inflexible,\" says Brett Kagan, an author of the study and chief scientific officer at Cortical Labs in Melbourne, Australia. \"That's something we don't see with biology.\"\n",
    "For example, both computers and people can learn to make a cup of tea, Kagan says. But people are able to generalize what they've learned in a way a computer can't.\n",
    "\"You might have never been to someone else's house, but with a bit of rummaging and searching you can probably make a decent cup of tea as long as I've got the ingredients,\" he says. But even a very powerful computer would struggle to carry out that task in an unfamiliar environment.\n",
    "So Cortical Labs has been trying to understand how living brain cells acquire this sort of intelligence. And Kagan says the Pong experiment was a way for the company to answer a key question about how a network of brain cells learns to change its behavior:\n",
    "\"If we allow these cells to know the outcome of their actions, will they actually be able to change in some sort of goal-directed way,\" Kagan says.\n",
    "To find out, the scientists used a system they've developed called DishBrain. A layer of living neurons is grown on a special silicon chip at the bottom of a thumb-size dish filled with nutrients. The chip, which is linked to a computer, can both detect electrical signals produced by the neurons, and deliver electrical signals to them.\n",
    "To test the learning ability of the cells, the computer generated a game of Pong, a two-dimensional version of table tennis that gained a cult following as one of the first and most basic video games.\n",
    "Pong is played on a video screen. A black rectangle defines the table, and a white cursor represents each player's paddle, which can be moved up or down to intercept a white ball.\n",
    "In the simplified version used in the experiment, there was a single paddle on the left side of the virtual table, and the ball would carom off the other sides until it evaded the paddle.\n",
    "To allow the brain cells to play the game, the computer sent signals to them indicating where the bouncing ball was. At the same time, it began monitoring information coming from the cells in the form of electrical pulses.\n",
    "\"We took that information and we allowed it to influence this Pong game that they were playing,\" Kagan says. \"So they could move the paddle around.\"\n",
    "At first, the cells didn't understand the signals coming from the computer, or know what signals to send the other direction. They also had no reason to play the game.\n",
    "So the scientists tried to motivate the cells using electrical stimulation: a nicely organized burst of electrical activity if they got it right. When they got it wrong, the result was a chaotic stream of white noise.\n",
    "\"If they hit the ball, we gave them something predictable,\" Kagan says. \"When they missed it, they got something that was totally unpredictable.\"\n",
    "The strategy was based on the Free Energy Principle, which states that brain cells want to be able to predict what's going on in their environment. So they would choose predictable stimulation over unpredictable stimulation.\n",
    "The approach worked. Cells began to learn to generate patterns of electrical activity that would move the paddle in front of the ball, and gradually rallies got longer.\n",
    "The brain cells never got that good at Pong. But interestingly, human brain cells seemed to achieve a slightly higher level of play than mouse brain cells, Kagan says.\n",
    "And the level of play was remarkable, considering that each network contained fewer cells than the brain of a cockroach, Kagan says.\n",
    "\"If you could see a cockroach playing a game of Pong and it was able to hit the ball twice as often as it was missing it, you would be pretty impressed with that cockroach,\" he says.\n",
    "The results hint at a future in which biology helps computers become more intelligent by changing the way that they learn, Kagan says.\n",
    "But that future is probably still a long way off, says Steve M. Potter, an adjunct associate professor at Georgia Tech.\n",
    "\"The idea of a computer that has some living components is exciting and it's starting to become a reality,\" he says. \"However, the kinds of learning that these things can accomplish is quite rudimentary right now.\"\n",
    "Even so, Potter says the system that allowed cells to learn Pong could be a great tool for doing research.\n",
    "\"This is sort of a semi-living animal model that one can use to study all sorts of mechanisms in the nervous system, not just learning,\" he says.\n",
    "\"\"\""
   ]
  },
  {
   "cell_type": "code",
   "execution_count": 30,
   "metadata": {},
   "outputs": [
    {
     "name": "stdout",
     "output_type": "stream",
     "text": [
      "['A dish of living brain cells has learned to play the 1970s arcade game Pong.\\nAbout 800,000 cells linked to a computer gradually learned to sense the position of the game\\'s electronic ball and control a virtual paddle, a team reports in the journal Neuron.\\nThe novel achievement is part of an effort to understand how the brain learns, and how to make computers more intelligent.\\n\"We\\'ve made huge strides with silicon computing, but they\\'re still rigid and inflexible,\" says Brett Kagan, an author of the study and chief scientific officer at Cortical Labs in Melbourne, Australia. \"That\\'s something we don\\'t see with biology.\"\\nFor example, both computers and people can learn to make a cup of tea, Kagan says. But people are able to generalize what they\\'ve learned in a way a computer can\\'t.\\n\"You might have never been to someone else\\'s house, but with a bit of rummaging and searching you can probably make a decent cup of tea as long as I\\'ve got the ingredients,\" he says. But even a very powerful computer would struggle to carry out that task in an unfamiliar environment.\\nSo Cortical Labs has been trying to understand how living brain cells acquire this sort of intelligence. And Kagan says the Pong experiment was a way for the company to answer a key question about how a network of brain cells learns to change its behavior:\\n\"If we allow these cells to know the outcome of their actions, will they actually be able to change in some sort of goal-directed way,\" Kagan says.\\nTo find out, the scientists used a system they\\'ve developed called DishBrain. A layer of living neurons is grown on a special silicon chip at the bottom of a thumb-size dish filled with nutrients. The chip, which is linked to a computer, can both detect electrical signals produced by the neurons, and deliver electrical signals to them.\\nTo test the learning ability of the cells, the computer generated a game of Pong, a two-dimensional version of table tennis that gained a cult following as one of the first and most basic video games.\\nPong is played on a video screen. A black rectangle defines the table, and a white cursor represents each player\\'s paddle, which can be moved up or down to intercept a white ball.\\nIn the simplified version used in the experiment, there was a single paddle on the left side of the virtual table, and the ball would carom off the other sides until it evaded the paddle.\\nTo allow the brain cells to play the game, the computer sent signals to them indicating where the bouncing ball was. At the same time, it began monitoring information coming from the cells in the form of electrical pulses.\\n\"We took that information and we allowed it to influence this Pong game that they were playing,\" Kagan says. \"So they could move the paddle around.\"\\nAt first, the cells didn\\'t understand the signals coming from the computer, or know what signals to send the other direction. They also had no reason to play the game.\\nSo the scientists tried to motivate the cells using electrical stimulation: a nicely organized burst of electrical activity if they got it right. When they got it wrong, the result was a chaotic stream of white noise.\\n\"If they hit the ball, we gave them something predictable,\" Kagan says. \"When they missed it, they got something that was totally unpredictable.\"\\nThe strategy was based on the Free Energy Principle, which states that brain cells want to be able to predict what\\'s going on in their environment. So they would choose predictable stimulation over unpredictable stimulation.\\nThe approach worked. Cells began to learn to generate patterns of electrical activity that would move the paddle in front of the ball, and gradually rallies got longer.\\nThe brain cells never got that good at Pong. But interestingly, human brain cells seemed to achieve a slightly higher level of play than mouse brain cells, Kagan says.\\nAnd the level of play was remarkable, considering that each network contained fewer cells than the brain of a cockroach, Kagan says.\\n\"If you could see a cockroach playing a game of Pong and it was able to hit the ball twice as often as it was missing it, you would be pretty impressed with that cockroach,\" he says.\\nThe results hint at a future in which biology helps computers become more intelligent by changing the way that they learn, Kagan says.\\nBut that future is probably still a long way off, says Steve M. Potter, an adjunct associate professor at Georgia Tech.\\n\"The idea of a computer that has some living components is exciting and it\\'s starting to become a reality,\" he says. \"However, the kinds of learning that these things can accomplish is quite rudimentary right now.\"\\nEven so, Potter says the system that allowed cells to learn Pong could be a great tool for doing research.\\n\"This is sort of a semi-living animal model that one can use to study all sorts of mechanisms in the nervous system, not just learning,\" he says.\\n']\n"
     ]
    }
   ],
   "source": [
    "from gensim import corpora\n",
    "\n",
    "# Convert to list\n",
    "data = text.split(\"delimiter\")\n",
    "print(data[:1])\n",
    "\n",
    "\n",
    "#Tokenize the sentence into words\n",
    "tokens = [word for word in text.split()]\n",
    "\n",
    "dictionary = corpora.Dictionary([tokens])\n",
    "corpus = [dictionary.doc2bow(tokens) for text in data]\n"
   ]
  },
  {
   "cell_type": "markdown",
   "metadata": {},
   "source": [
    "### viewing topics\n"
   ]
  },
  {
   "cell_type": "code",
   "execution_count": 3,
   "metadata": {},
   "outputs": [
    {
     "name": "stdout",
     "output_type": "stream",
     "text": [
      "Topics found via LDA:\n",
      "\n",
      "Topic #0:\n",
      "the has pong says to brain contained hint worked that network player is of intercept rigid able environment\n",
      "\n",
      "Topic #1:\n",
      "they the learn began that is model them brain of test struggle cells know learns signals says achievement\n",
      "\n",
      "Topic #2:\n",
      "the to of that cells and says they in brain it kagan was is pong computer can game\n",
      "\n",
      "Topic #3:\n",
      "the to of cells says and in that it they was kagan computer brain pong learn be way\n"
     ]
    }
   ],
   "source": [
    "from sklearn.decomposition import LatentDirichletAllocation\n",
    "\n",
    "def print_topics(model, count_vectorizer, n_top_words):\n",
    "    ''' Print the topics detected and the n_top_words that contains\n",
    "    Input:\n",
    "       - model: LDA model for the text\n",
    "       - count_cectorizer: the count vectorizer object\n",
    "       - n_top_words: the number of words to consider in a topic\n",
    "    '''\n",
    "    words = count_vectorizer.get_feature_names()\n",
    "    for topic_idx, topic in enumerate(model.components_):\n",
    "        print(\"\\nTopic #%d:\" % topic_idx)\n",
    "        print(\" \".join([words[i]\n",
    "                        for i in topic.argsort()[:-n_top_words - 1:-1]]))\n",
    " \n",
    " # Apply the LDA method to discover the topics\n",
    "lda_model = LatentDirichletAllocation(n_components=4, learning_method='online', max_iter=10, random_state=42).fit(tf)\n",
    "# Show the topics and the 10 more relevant words in each topic\n",
    "no_top_words = 18\n",
    "# Print the topics found by the LDA model\n",
    "print(\"Topics found via LDA:\")\n",
    "print_topics(lda_model, tf_vectorizer, no_top_words)"
   ]
  },
  {
   "cell_type": "markdown",
   "metadata": {},
   "source": [
    "Here we see the top 4 topics returned, notice every topic has grouped those words as a similar pattern.  That these words are weighted more importantly to describe the topic.  Which  to be fair, it seems that the topics are pretty much the same.  Which is expexted, as this is one story that only talks about one thing in it.  Usually topic modeling is better suited when given a lot of doucments to review.  However, I still think this is a good sign that the important words its noticing is hopefully going to be in the summary later on. "
   ]
  },
  {
   "cell_type": "code",
   "execution_count": 5,
   "metadata": {},
   "outputs": [],
   "source": [
    "import gensim\n",
    "import re\n",
    "\n",
    "def sent_to_words(sentences):\n",
    "    for sent in sentences:\n",
    "        sent = re.sub('\\S*@\\S*\\s?', '', sent)  # remove emails\n",
    "        sent = re.sub('\\s+', ' ', sent)  # remove newline chars\n",
    "        sent = re.sub(\"\\'\", \"\", sent)  # remove single quotes\n",
    "        sent = gensim.utils.simple_preprocess(str(sent), deacc=True) \n",
    "        yield(sent)  \n",
    "\n",
    "# Convert to list\n",
    "data = text.split(\"delimiter\")\n",
    "data_words = list(sent_to_words(data))\n"
   ]
  },
  {
   "cell_type": "code",
   "execution_count": 6,
   "metadata": {},
   "outputs": [
    {
     "name": "stderr",
     "output_type": "stream",
     "text": [
      "c:\\Users\\User\\AppData\\Local\\Programs\\Python\\Python39\\lib\\site-packages\\tqdm\\auto.py:22: TqdmWarning: IProgress not found. Please update jupyter and ipywidgets. See https://ipywidgets.readthedocs.io/en/stable/user_install.html\n",
      "  from .autonotebook import tqdm as notebook_tqdm\n",
      "c:\\Users\\User\\AppData\\Local\\Programs\\Python\\Python39\\lib\\site-packages\\spacy\\language.py:1895: UserWarning: [W123] Argument disable with value ['parser', 'ner'] is used instead of ['senter'] as specified in the config. Be aware that this might affect other components in your pipeline.\n",
      "  warnings.warn(\n"
     ]
    }
   ],
   "source": [
    "from nltk.corpus import stopwords\n",
    "from nltk.tokenize import sent_tokenize, word_tokenize\n",
    "import spacy\n",
    "\n",
    "stopwords = set(stopwords.words(\"english\"))\n",
    "\n",
    "\n",
    "# Build the bigram and trigram models\n",
    "bigram = gensim.models.Phrases(data_words, min_count=5, threshold=100) # higher threshold fewer phrases.\n",
    "trigram = gensim.models.Phrases(bigram[data_words], threshold=100)  \n",
    "bigram_mod = gensim.models.phrases.Phraser(bigram)\n",
    "trigram_mod = gensim.models.phrases.Phraser(trigram)\n",
    "\n",
    "# !python3 -m spacy download en  # run in terminal once\n",
    "def process_words(texts, stopwords=stopwords, allowed_postags=['NOUN', 'ADJ', 'VERB', 'ADV']):\n",
    "    \"\"\"Remove Stopwords, Form Bigrams, Trigrams and Lemmatization\"\"\"\n",
    "    texts = [[word for word in gensim.utils.simple_preprocess(str(doc)) if word not in stopwords] for doc in texts]\n",
    "    texts = [bigram_mod[doc] for doc in texts]\n",
    "    texts = [trigram_mod[bigram_mod[doc]] for doc in texts]\n",
    "    texts_out = []\n",
    "    nlp = spacy.load('en_core_web_sm', disable=['parser', 'ner'])\n",
    "    for sent in texts:\n",
    "        doc = nlp(\" \".join(sent)) \n",
    "        texts_out.append([token.lemma_ for token in doc if token.pos_ in allowed_postags])\n",
    "    # remove stopwords once more after lemmatization\n",
    "    texts_out = [[word for word in gensim.utils.simple_preprocess(str(doc)) if word not in stopwords] for doc in texts_out]    \n",
    "    return texts_out\n",
    "\n",
    "data_ready = process_words(data_words)  # processed Text Data!\n",
    "\n",
    "# print(data_ready)"
   ]
  },
  {
   "cell_type": "markdown",
   "metadata": {},
   "source": [
    "### here is the grouping of keywords per the topic\n",
    "\n",
    "As a means of guiding this, this is a variation of the code above, it printing the words and their weight with respect to the topic, in each topic.  So lets look at just that firt topic and drill down a bit."
   ]
  },
  {
   "cell_type": "code",
   "execution_count": 7,
   "metadata": {},
   "outputs": [
    {
     "name": "stdout",
     "output_type": "stream",
     "text": [
      "[(0, '0.037*\"cell\" + 0.033*\"say\" + 0.024*\"computer\" + 0.024*\"learn\" + 0.022*\"brain\" + 0.018*\"game\" + 0.016*\"ball\" + 0.014*\"play\" + 0.014*\"paddle\" + 0.014*\"get\"'), (1, '0.004*\"cell\" + 0.004*\"learn\" + 0.004*\"brain\" + 0.004*\"say\" + 0.004*\"computer\" + 0.004*\"game\" + 0.004*\"ball\" + 0.004*\"pong\" + 0.004*\"paddle\" + 0.004*\"get\"'), (2, '0.005*\"cell\" + 0.005*\"say\" + 0.005*\"computer\" + 0.005*\"brain\" + 0.005*\"learn\" + 0.005*\"game\" + 0.005*\"ball\" + 0.005*\"way\" + 0.005*\"signal\" + 0.005*\"play\"'), (3, '0.007*\"cell\" + 0.006*\"say\" + 0.006*\"brain\" + 0.005*\"learn\" + 0.005*\"computer\" + 0.005*\"game\" + 0.005*\"electrical\" + 0.005*\"ball\" + 0.005*\"get\" + 0.005*\"paddle\"')]\n"
     ]
    }
   ],
   "source": [
    "import gensim.corpora as corpora\n",
    "\n",
    "# Create Dictionary\n",
    "id2word = corpora.Dictionary(data_ready)\n",
    "\n",
    "# Create Corpus: Term Document Frequency\n",
    "corpus = [id2word.doc2bow(text) for text in data_ready]\n",
    "\n",
    "# Build LDA model\n",
    "lda_model = gensim.models.ldamodel.LdaModel(corpus=corpus,\n",
    "                                           id2word=id2word,\n",
    "                                           num_topics=4, \n",
    "                                           random_state=100,\n",
    "                                           update_every=1,\n",
    "                                           chunksize=10,\n",
    "                                           passes=10,\n",
    "                                           alpha='symmetric',\n",
    "                                           iterations=100,\n",
    "                                           per_word_topics=True)\n",
    "\n",
    "print(lda_model.print_topics())"
   ]
  },
  {
   "cell_type": "code",
   "execution_count": 35,
   "metadata": {},
   "outputs": [
    {
     "name": "stdout",
     "output_type": "stream",
     "text": [
      "0,0.037*\"cell\" \n",
      " 0.033*\"say\" \n",
      " 0.024*\"computer\" \n",
      " 0.024*\"learn\" \n",
      " 0.022*\"brain\" \n",
      " 0.018*\"game\" \n",
      " 0.016*\"ball\" \n",
      " 0.014*\"play\" \n",
      " 0.014*\"paddle\" \n",
      " 0.014*\"get\"\n"
     ]
    }
   ],
   "source": [
    "topicList = lda_model.print_topics()\n",
    "firstTopic = topicList[0]\n",
    "\n",
    "firstTopic2Str = ','.join(str(i) for i in firstTopic)\n",
    "\n",
    "topic0Cleaned = firstTopic2Str.split('+')\n",
    "\n",
    "for value in topic0Cleaned:\n",
    "    print(value)"
   ]
  },
  {
   "cell_type": "markdown",
   "metadata": {},
   "source": [
    "Each word and the value tied to it represents the top 10 keywordd for that topic, which probably would be best described as \"machine learning\" if I was to put a topic on it.  You can see that \"cell\" gets the most weight to it versus \"get\", but they are all needed to describe the topic.  These keywords are what I'm look at because what the topic model generates as topic(s), I'm hoping to see those saem topics or some of them, in the summary."
   ]
  },
  {
   "cell_type": "markdown",
   "metadata": {},
   "source": [
    "## text summarization"
   ]
  },
  {
   "cell_type": "code",
   "execution_count": 37,
   "metadata": {},
   "outputs": [
    {
     "name": "stdout",
     "output_type": "stream",
     "text": [
      " The novel achievement is part of an effort to understand how the brain learns, and how to make computers more intelligent. For example, both computers and people can learn to make a cup of tea, Kagan says. Pong is played on a video screen. To allow the brain cells to play the game, the computer sent signals to them indicating where the bouncing ball was. At the same time, it began monitoring information coming from the cells in the form of electrical pulses. \"We took that information and we allowed it to influence this Pong game that they were playing,\" Kagan says. \"So they could move the paddle around.\" At first, the cells didn't understand the signals coming from the computer, or know what signals to send the other direction. They also had no reason to play the game. \"If they hit the ball, we gave them something predictable,\" Kagan says. The approach worked. The brain cells never got that good at Pong. But interestingly, human brain cells seemed to achieve a slightly higher level of play than mouse brain cells, Kagan says. \"The idea of a computer that has some living components is exciting and it's starting to become a reality,\" he says. Even so, Potter says the system that allowed cells to learn Pong could be a great tool for doing research.\n"
     ]
    }
   ],
   "source": [
    "# Source for code: https://blog.floydhub.com/gentle-introduction-to-text-summarization-in-machine-learning/\n",
    "\n",
    "import pandas as pd\n",
    "from nltk.corpus import stopwords\n",
    "from nltk.stem import PorterStemmer\n",
    "from nltk.tokenize import sent_tokenize, word_tokenize\n",
    "\n",
    "article_content  = \"\"\"A dish of living brain cells has learned to play the 1970s arcade game Pong.\n",
    "About 800,000 cells linked to a computer gradually learned to sense the position of the game's electronic ball and control a virtual paddle, a team reports in the journal Neuron.\n",
    "The novel achievement is part of an effort to understand how the brain learns, and how to make computers more intelligent.\n",
    "\"We've made huge strides with silicon computing, but they're still rigid and inflexible,\" says Brett Kagan, an author of the study and chief scientific officer at Cortical Labs in Melbourne, Australia. \"That's something we don't see with biology.\"\n",
    "For example, both computers and people can learn to make a cup of tea, Kagan says. But people are able to generalize what they've learned in a way a computer can't.\n",
    "\"You might have never been to someone else's house, but with a bit of rummaging and searching you can probably make a decent cup of tea as long as I've got the ingredients,\" he says. But even a very powerful computer would struggle to carry out that task in an unfamiliar environment.\n",
    "So Cortical Labs has been trying to understand how living brain cells acquire this sort of intelligence. And Kagan says the Pong experiment was a way for the company to answer a key question about how a network of brain cells learns to change its behavior:\n",
    "\"If we allow these cells to know the outcome of their actions, will they actually be able to change in some sort of goal-directed way,\" Kagan says.\n",
    "To find out, the scientists used a system they've developed called DishBrain. A layer of living neurons is grown on a special silicon chip at the bottom of a thumb-size dish filled with nutrients. The chip, which is linked to a computer, can both detect electrical signals produced by the neurons, and deliver electrical signals to them.\n",
    "To test the learning ability of the cells, the computer generated a game of Pong, a two-dimensional version of table tennis that gained a cult following as one of the first and most basic video games.\n",
    "Pong is played on a video screen. A black rectangle defines the table, and a white cursor represents each player's paddle, which can be moved up or down to intercept a white ball.\n",
    "In the simplified version used in the experiment, there was a single paddle on the left side of the virtual table, and the ball would carom off the other sides until it evaded the paddle.\n",
    "To allow the brain cells to play the game, the computer sent signals to them indicating where the bouncing ball was. At the same time, it began monitoring information coming from the cells in the form of electrical pulses.\n",
    "\"We took that information and we allowed it to influence this Pong game that they were playing,\" Kagan says. \"So they could move the paddle around.\"\n",
    "At first, the cells didn't understand the signals coming from the computer, or know what signals to send the other direction. They also had no reason to play the game.\n",
    "So the scientists tried to motivate the cells using electrical stimulation: a nicely organized burst of electrical activity if they got it right. When they got it wrong, the result was a chaotic stream of white noise.\n",
    "\"If they hit the ball, we gave them something predictable,\" Kagan says. \"When they missed it, they got something that was totally unpredictable.\"\n",
    "The strategy was based on the Free Energy Principle, which states that brain cells want to be able to predict what's going on in their environment. So they would choose predictable stimulation over unpredictable stimulation.\n",
    "The approach worked. Cells began to learn to generate patterns of electrical activity that would move the paddle in front of the ball, and gradually rallies got longer.\n",
    "The brain cells never got that good at Pong. But interestingly, human brain cells seemed to achieve a slightly higher level of play than mouse brain cells, Kagan says.\n",
    "And the level of play was remarkable, considering that each network contained fewer cells than the brain of a cockroach, Kagan says.\n",
    "\"If you could see a cockroach playing a game of Pong and it was able to hit the ball twice as often as it was missing it, you would be pretty impressed with that cockroach,\" he says.\n",
    "The results hint at a future in which biology helps computers become more intelligent by changing the way that they learn, Kagan says.\n",
    "But that future is probably still a long way off, says Steve M. Potter, an adjunct associate professor at Georgia Tech.\n",
    "\"The idea of a computer that has some living components is exciting and it's starting to become a reality,\" he says. \"However, the kinds of learning that these things can accomplish is quite rudimentary right now.\"\n",
    "Even so, Potter says the system that allowed cells to learn Pong could be a great tool for doing research.\n",
    "\"This is sort of a semi-living animal model that one can use to study all sorts of mechanisms in the nervous system, not just learning,\" he says.\n",
    "\"\"\"\n",
    "\n",
    "def _create_dictionary_table(text_string) -> dict:\n",
    "       \n",
    "    #removing stop words\n",
    "    stop_words = set(stopwords.words(\"english\"))\n",
    "    \n",
    "    words = word_tokenize(text_string)\n",
    "    \n",
    "    #reducing words to their root form\n",
    "    stem = PorterStemmer()\n",
    "    \n",
    "    #creating dictionary for the word frequency table\n",
    "    frequency_table = dict()\n",
    "    for wd in words:\n",
    "        wd = stem.stem(wd)\n",
    "        if wd in stop_words:\n",
    "            continue\n",
    "        if wd in frequency_table:\n",
    "            frequency_table[wd] += 1\n",
    "        else:\n",
    "            frequency_table[wd] = 1\n",
    "\n",
    "    return frequency_table\n",
    "\n",
    "\n",
    "def _calculate_sentence_scores(sentences, frequency_table) -> dict:   \n",
    "\n",
    "    #algorithm for scoring a sentence by its words\n",
    "    sentence_weight = dict()\n",
    "\n",
    "    for sentence in sentences:\n",
    "        sentence_wordcount = (len(word_tokenize(sentence)))\n",
    "        sentence_wordcount_without_stop_words = 0\n",
    "        for word_weight in frequency_table:\n",
    "            if word_weight in sentence.lower():\n",
    "                sentence_wordcount_without_stop_words += 1\n",
    "                if sentence[:7] in sentence_weight:\n",
    "                    sentence_weight[sentence[:7]] += frequency_table[word_weight]\n",
    "                else:\n",
    "                    sentence_weight[sentence[:7]] = frequency_table[word_weight]\n",
    "\n",
    "        sentence_weight[sentence[:7]] = sentence_weight[sentence[:7]] / sentence_wordcount_without_stop_words\n",
    "\n",
    "       \n",
    "\n",
    "    return sentence_weight\n",
    "\n",
    "def _calculate_average_score(sentence_weight) -> int:\n",
    "   \n",
    "    #calculating the average score for the sentences\n",
    "    sum_values = 0\n",
    "    for entry in sentence_weight:\n",
    "        sum_values += sentence_weight[entry]\n",
    "\n",
    "    #getting sentence average value from source text\n",
    "    average_score = (sum_values / len(sentence_weight))\n",
    "\n",
    "    return average_score\n",
    "\n",
    "def _get_article_summary(sentences, sentence_weight, threshold):\n",
    "    sentence_counter = 0\n",
    "    article_summary = ''\n",
    "\n",
    "    for sentence in sentences:\n",
    "        if sentence[:7] in sentence_weight and sentence_weight[sentence[:7]] >= (threshold):\n",
    "            article_summary += \" \" + sentence\n",
    "            sentence_counter += 1\n",
    "\n",
    "    return article_summary\n",
    "\n",
    "def _run_article_summary(article):\n",
    "    \n",
    "    #creating a dictionary for the word frequency table\n",
    "    frequency_table = _create_dictionary_table(article)\n",
    "\n",
    "    #tokenizing the sentences\n",
    "    sentences = sent_tokenize(article)\n",
    "\n",
    "    #algorithm for scoring a sentence by its words\n",
    "    sentence_scores = _calculate_sentence_scores(sentences, frequency_table)\n",
    "\n",
    "    #getting the threshold\n",
    "    threshold = _calculate_average_score(sentence_scores)\n",
    "\n",
    "    #producing the summary\n",
    "    article_summary = _get_article_summary(sentences, sentence_scores, 1.1 * threshold)\n",
    "\n",
    "    return article_summary\n",
    "\n",
    "if __name__ == '__main__':\n",
    "    summary_results = _run_article_summary(article_content)\n",
    "    print(summary_results)"
   ]
  },
  {
   "cell_type": "markdown",
   "metadata": {},
   "source": [
    "### Second reference extractive summary model to compare against "
   ]
  },
  {
   "cell_type": "code",
   "execution_count": 33,
   "metadata": {},
   "outputs": [
    {
     "name": "stdout",
     "output_type": "stream",
     "text": [
      "A dish of living brain cells has learned to play the 1970s arcade game Pong. And Kagan says the Pong experiment was a way for the company to answer a key question about how a network of brain cells learns to change its behavior: \"If we allow these cells to know the outcome of their actions, will they actually be able to change in some sort of goal-directed way,\" Kagan says. To allow the brain cells to play the game, the computer sent signals to them indicating where the bouncing ball was. So the scientists tried to motivate the cells using electrical stimulation: a nicely organized burst of electrical activity if they got it right. \"If you could see a cockroach playing a game of Pong and it was able to hit the ball twice as often as it was missing it, you would be pretty impressed with that cockroach,\" he says.\n"
     ]
    }
   ],
   "source": [
    "# Extractive summarize\n",
    "from sumy.parsers.plaintext import PlaintextParser\n",
    "from sumy.nlp.tokenizers import Tokenizer\n",
    "from sumy.summarizers.lex_rank import LexRankSummarizer\n",
    "parser = PlaintextParser.from_string(text, Tokenizer(\"english\"))\n",
    "summarizer = LexRankSummarizer()\n",
    "extractve_summarization  = summarizer(parser.document,5)\n",
    "extractve_summarization = ' '.join([str(s) for s in list(extractve_summarization)])\n",
    "\n",
    "print(extractve_summarization)"
   ]
  },
  {
   "cell_type": "markdown",
   "metadata": {},
   "source": [
    "## Evaluating the text summary\n",
    "\n",
    "What do we want from the summary?  It needs to be concise, not give us fake or bad data, it needs to hit the main points of the article or body of text in general and give that back to us in a meaninigful way, and finally read coherently.  The first summary result is maybe a little larger than I'd like, especially comparing it to the other example which a little more condensed.  It also isn't all that coherent to be fair, some sentences seem out of place or don't really add to the summary itself.  However, I still think overall it did well.  I think the second gerneated summary is overall better as well, but its just a reference to compare.  \n",
    "\n",
    "### Metrics\n",
    "\n",
    "In text summarization models, it is hard evaluate them with standard scores as in the text classification models.  However, it does follow that we can compare the original text with that the summary put out and see how much of the original keywords were kept.  This brings in ROUGE, rouge measure recall, it recalls how many or how much the words in the summary appeared in the original text.  For example, if the text was \"I really love machine learning\" and the summary I got back was \"Love machine learning\".  The rouge score should be pretty high as this captured most of the words in the original text.  "
   ]
  },
  {
   "cell_type": "code",
   "execution_count": 40,
   "metadata": {},
   "outputs": [
    {
     "data": {
      "text/plain": [
       "[{'rouge-1': {'r': 1.0, 'p': 0.3458646616541353, 'f': 0.5139664766280704},\n",
       "  'rouge-2': {'r': 0.9666666666666667,\n",
       "   'p': 0.26710526315789473,\n",
       "   'f': 0.4185566976384314},\n",
       "  'rouge-l': {'r': 1.0, 'p': 0.3458646616541353, 'f': 0.5139664766280704}}]"
      ]
     },
     "execution_count": 40,
     "metadata": {},
     "output_type": "execute_result"
    }
   ],
   "source": [
    "#evaluating the summary results\n",
    "from rouge import Rouge\n",
    "\n",
    "ref = text\n",
    "summaryModel = summary_results\n",
    "\n",
    "rouge = Rouge()\n",
    "rouge.get_scores(ref, summaryModel)\n",
    "\n"
   ]
  },
  {
   "cell_type": "code",
   "execution_count": 39,
   "metadata": {},
   "outputs": [
    {
     "data": {
      "text/plain": [
       "[{'rouge-1': {'r': 1.0, 'p': 0.24060150375939848, 'f': 0.3878787847522498},\n",
       "  'rouge-2': {'r': 0.9788732394366197,\n",
       "   'p': 0.18289473684210528,\n",
       "   'f': 0.3082039884779328},\n",
       "  'rouge-l': {'r': 1.0, 'p': 0.24060150375939848, 'f': 0.3878787847522498}}]"
      ]
     },
     "execution_count": 39,
     "metadata": {},
     "output_type": "execute_result"
    }
   ],
   "source": [
    "#evaluating the  reference summary results\n",
    "\n",
    "from rouge import Rouge\n",
    "\n",
    "ref = text\n",
    "summaryModel = extractve_summarization\n",
    "\n",
    "rouge = Rouge()\n",
    "rouge.get_scores(ref, summaryModel)"
   ]
  },
  {
   "cell_type": "markdown",
   "metadata": {},
   "source": [
    "for context:\n",
    "* p = precision\n",
    "* r =  recall\n",
    "* f = F1 score\n",
    "\n",
    "* rouge-1 =  refers to the overlap of unigram (each word)\n",
    "* rouge-2 = refers to the overlap of bigrams \n",
    "\n",
    "It seems that my summary model performed pretty well, better than the reference example.  Given my summary is bigger and therefor contains more of the original text, this may not be far.  However, still for a baseline model this isn't bad and its working completely from the text and code, no libraries.  \n",
    "\n",
    "Going forward I'll use a different method to summarization, an abstractive summary and compare that to the baseline model"
   ]
  }
 ],
 "metadata": {
  "kernelspec": {
   "display_name": "Python 3.9.1 64-bit",
   "language": "python",
   "name": "python3"
  },
  "language_info": {
   "codemirror_mode": {
    "name": "ipython",
    "version": 3
   },
   "file_extension": ".py",
   "mimetype": "text/x-python",
   "name": "python",
   "nbconvert_exporter": "python",
   "pygments_lexer": "ipython3",
   "version": "3.9.1"
  },
  "orig_nbformat": 4,
  "vscode": {
   "interpreter": {
    "hash": "cf92aa13fedf815d5c8dd192b8d835913fde3e8bc926b2a0ad6cc74ef2ba3ca2"
   }
  }
 },
 "nbformat": 4,
 "nbformat_minor": 2
}
